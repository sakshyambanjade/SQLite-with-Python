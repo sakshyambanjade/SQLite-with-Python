{
 "cells": [
  {
   "cell_type": "markdown",
   "id": "8a357d64-05f4-4c35-ae4c-e9a46dfe1453",
   "metadata": {},
   "source": [
    "# INSTALLING AND IMPORTING LIBRARIES"
   ]
  },
  {
   "cell_type": "code",
   "execution_count": 8,
   "id": "8e6fa444-a23f-465c-b47e-e389624e4d4d",
   "metadata": {},
   "outputs": [],
   "source": [
    "import sqlite3\n",
    "import pandas as pd\n",
    "import matplotlib.pyplot as plt\n",
    "import seaborn as sns\n",
    "import warnings\n",
    "warnings.filterwarnings(\"ignore\")"
   ]
  },
  {
   "cell_type": "markdown",
   "id": "310a0eb1-5f4f-42fb-9fa2-9d0d9e3306e3",
   "metadata": {},
   "source": [
    "# Creating a New SqLite Database and Table"
   ]
  },
  {
   "cell_type": "code",
   "execution_count": 22,
   "id": "784c6468-1ae8-42d7-8b77-feaf6e953836",
   "metadata": {},
   "outputs": [],
   "source": [
    "#Connecting to Database\n",
    "conn  = sqlite3.connect(\"user_data.db\") \n",
    "\n",
    "#Creating a cursor to interact with Database\n",
    "cursor = conn.cursor()\n",
    "\n",
    "#Creating a Sample Table\n",
    "cursor.execute(\"\"\"\n",
    "CREATE TABLE IF NOT EXISTS users (\n",
    "id INTEGER PRIMARY KEY AUTOINCREMENT ,\n",
    "name TEXT , \n",
    "age INTERGER ,\n",
    "city TEXT ,\n",
    "spent REAL\n",
    ")\n",
    "\"\"\"\n",
    ")\n",
    "\n",
    "\n",
    "\n",
    "#Commiting and closing the connection\n",
    "conn.commit()"
   ]
  },
  {
   "cell_type": "markdown",
   "id": "5aeb4ced-8f37-4726-94b3-408afd82ecb5",
   "metadata": {},
   "source": [
    "# Inserting the Samle Data  into the SQL table "
   ]
  },
  {
   "cell_type": "code",
   "execution_count": 30,
   "id": "70484feb-d456-46c3-8f45-c7fb83c31cab",
   "metadata": {},
   "outputs": [],
   "source": [
    "# Insering the Sample Data \n",
    "users = [\n",
    "    (\"OM NAMA SHIVA\", 8, \"New York\", 888.0),\n",
    "    (\"Shiva Pandey\", 80, \"Mass\", 80808.0),\n",
    "    (\"Prason Pandey\", 69, \"Pokhara\", 696969.0),\n",
    "    (\"Ram Kazi\", 44, \"Butwal\", 15792.0),\n",
    "    (\"Ramesh Pokhrel\", 96, \"Arizona\", 26479.0),\n",
    "]\n",
    "\n",
    "# Inserting the data into the table\n",
    "cursor.executemany(\"INSERT INTO users (name, age, city, spent) VALUES (?, ?, ?, ?)\", users)\n",
    "\n",
    "# Committing the changes\n",
    "conn.commit()\n",
    "\n",
    "# Closing the connection\n",
    "conn.close()"
   ]
  },
  {
   "cell_type": "code",
   "execution_count": null,
   "id": "4adc035c-2eb7-45f9-9b77-448512debeae",
   "metadata": {},
   "outputs": [],
   "source": []
  }
 ],
 "metadata": {
  "kernelspec": {
   "display_name": "Python 3 (ipykernel)",
   "language": "python",
   "name": "python3"
  },
  "language_info": {
   "codemirror_mode": {
    "name": "ipython",
    "version": 3
   },
   "file_extension": ".py",
   "mimetype": "text/x-python",
   "name": "python",
   "nbconvert_exporter": "python",
   "pygments_lexer": "ipython3",
   "version": "3.12.4"
  }
 },
 "nbformat": 4,
 "nbformat_minor": 5
}
