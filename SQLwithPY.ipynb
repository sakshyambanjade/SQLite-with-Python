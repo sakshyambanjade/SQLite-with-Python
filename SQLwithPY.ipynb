{
 "cells": [
  {
   "cell_type": "markdown",
   "id": "8a357d64-05f4-4c35-ae4c-e9a46dfe1453",
   "metadata": {},
   "source": [
    "# 1. INSTALLING AND IMPORTING LIBRARIES"
   ]
  },
  {
   "cell_type": "code",
   "execution_count": 8,
   "id": "8e6fa444-a23f-465c-b47e-e389624e4d4d",
   "metadata": {},
   "outputs": [],
   "source": [
    "import sqlite3\n",
    "import pandas as pd\n",
    "import matplotlib.pyplot as plt\n",
    "import seaborn as sns\n",
    "import warnings\n",
    "warnings.filterwarnings(\"ignore\")"
   ]
  },
  {
   "cell_type": "markdown",
   "id": "310a0eb1-5f4f-42fb-9fa2-9d0d9e3306e3",
   "metadata": {},
   "source": [
    "# 2. Creating a New SqLite Database and Table"
   ]
  },
  {
   "cell_type": "code",
   "execution_count": 53,
   "id": "784c6468-1ae8-42d7-8b77-feaf6e953836",
   "metadata": {},
   "outputs": [],
   "source": [
    "#Connecting to Database\n",
    "conn  = sqlite3.connect(\"user_data.db\") \n",
    "\n",
    "#Creating a cursor to interact with Database\n",
    "cursor = conn.cursor()\n",
    "\n",
    "#Creating a Sample Table\n",
    "cursor.execute(\"\"\"\n",
    "CREATE TABLE IF NOT EXISTS users (\n",
    "id INTEGER PRIMARY KEY AUTOINCREMENT ,\n",
    "name TEXT , \n",
    "age INTERGER ,\n",
    "city TEXT ,\n",
    "spent REAL\n",
    ")\n",
    "\"\"\"\n",
    ")\n",
    "\n",
    "\n",
    "\n",
    "#Commiting and closing the connection\n",
    "conn.commit()"
   ]
  },
  {
   "cell_type": "markdown",
   "id": "5aeb4ced-8f37-4726-94b3-408afd82ecb5",
   "metadata": {},
   "source": [
    "# 3. Inserting the Samle Data  into the SQL table "
   ]
  },
  {
   "cell_type": "code",
   "execution_count": 55,
   "id": "70484feb-d456-46c3-8f45-c7fb83c31cab",
   "metadata": {},
   "outputs": [],
   "source": [
    "# Open the connection\n",
    "conn = sqlite3.connect(\"user_data.db\")\n",
    "cursor = conn.cursor()\n",
    "\n",
    "# Your data\n",
    "users = [\n",
    "    (\"OM NAMA SHIVA\", 8, \"New York\", 888.0),\n",
    "    (\"Shiva Pandey\", 80, \"Mass\", 80808.0),\n",
    "    (\"Ramesh Pokhrel\", 96, \"Arizona\", 26479.0),\n",
    "]\n",
    "\n",
    "# Insert data\n",
    "cursor.executemany(\"INSERT INTO users (name, age, city, spent) VALUES (?, ?, ?, ?)\", users)\n",
    "\n",
    "# Commit and close\n",
    "conn.close()"
   ]
  },
  {
   "cell_type": "markdown",
   "id": "562b3aa7-297e-4ee9-aa7e-109419031b99",
   "metadata": {},
   "source": [
    "# 4. Running the SQL queries"
   ]
  },
  {
   "cell_type": "code",
   "execution_count": 57,
   "id": "a3c08763-6e8c-44cf-b7ce-1ffe17485730",
   "metadata": {},
   "outputs": [
    {
     "data": {
      "text/html": [
       "<div>\n",
       "<style scoped>\n",
       "    .dataframe tbody tr th:only-of-type {\n",
       "        vertical-align: middle;\n",
       "    }\n",
       "\n",
       "    .dataframe tbody tr th {\n",
       "        vertical-align: top;\n",
       "    }\n",
       "\n",
       "    .dataframe thead th {\n",
       "        text-align: right;\n",
       "    }\n",
       "</style>\n",
       "<table border=\"1\" class=\"dataframe\">\n",
       "  <thead>\n",
       "    <tr style=\"text-align: right;\">\n",
       "      <th></th>\n",
       "      <th>id</th>\n",
       "      <th>name</th>\n",
       "      <th>AGE</th>\n",
       "      <th>city</th>\n",
       "      <th>spent</th>\n",
       "    </tr>\n",
       "  </thead>\n",
       "  <tbody>\n",
       "    <tr>\n",
       "      <th>0</th>\n",
       "      <td>1</td>\n",
       "      <td>OM NAMA SHIVA</td>\n",
       "      <td>8</td>\n",
       "      <td>New York</td>\n",
       "      <td>888.0</td>\n",
       "    </tr>\n",
       "    <tr>\n",
       "      <th>1</th>\n",
       "      <td>2</td>\n",
       "      <td>Shiva Pandey</td>\n",
       "      <td>80</td>\n",
       "      <td>Mass</td>\n",
       "      <td>80808.0</td>\n",
       "    </tr>\n",
       "    <tr>\n",
       "      <th>2</th>\n",
       "      <td>3</td>\n",
       "      <td>Prason Pandey</td>\n",
       "      <td>69</td>\n",
       "      <td>Pokhara</td>\n",
       "      <td>696969.0</td>\n",
       "    </tr>\n",
       "    <tr>\n",
       "      <th>3</th>\n",
       "      <td>4</td>\n",
       "      <td>Ram Kazi</td>\n",
       "      <td>44</td>\n",
       "      <td>Butwal</td>\n",
       "      <td>15792.0</td>\n",
       "    </tr>\n",
       "    <tr>\n",
       "      <th>4</th>\n",
       "      <td>5</td>\n",
       "      <td>Ramesh Pokhrel</td>\n",
       "      <td>96</td>\n",
       "      <td>Arizona</td>\n",
       "      <td>26479.0</td>\n",
       "    </tr>\n",
       "  </tbody>\n",
       "</table>\n",
       "</div>"
      ],
      "text/plain": [
       "   id            name  AGE      city     spent\n",
       "0   1   OM NAMA SHIVA    8  New York     888.0\n",
       "1   2    Shiva Pandey   80      Mass   80808.0\n",
       "2   3   Prason Pandey   69   Pokhara  696969.0\n",
       "3   4        Ram Kazi   44    Butwal   15792.0\n",
       "4   5  Ramesh Pokhrel   96   Arizona   26479.0"
      ]
     },
     "execution_count": 57,
     "metadata": {},
     "output_type": "execute_result"
    }
   ],
   "source": [
    "#running a sql query to get all the customer data\n",
    "conn = sqlite3.connect(\"user_data.db\")\n",
    "query = \"SELECT * from users\"\n",
    "df = pd.read_sql(query , conn ) # <= Stores the querys into a pandas dataframe\n",
    "\n",
    "#Displaying the data\n",
    "df.head()"
   ]
  },
  {
   "cell_type": "markdown",
   "id": "027f9849-722d-4a17-a4de-ce18368b78e2",
   "metadata": {},
   "source": [
    "# 5. Performing Data Analysis using SQL "
   ]
  },
  {
   "cell_type": "code",
   "execution_count": 73,
   "id": "606c9d86-a735-40b9-8b7c-a65fa902da32",
   "metadata": {},
   "outputs": [
    {
     "data": {
      "text/html": [
       "<div>\n",
       "<style scoped>\n",
       "    .dataframe tbody tr th:only-of-type {\n",
       "        vertical-align: middle;\n",
       "    }\n",
       "\n",
       "    .dataframe tbody tr th {\n",
       "        vertical-align: top;\n",
       "    }\n",
       "\n",
       "    .dataframe thead th {\n",
       "        text-align: right;\n",
       "    }\n",
       "</style>\n",
       "<table border=\"1\" class=\"dataframe\">\n",
       "  <thead>\n",
       "    <tr style=\"text-align: right;\">\n",
       "      <th></th>\n",
       "      <th>id</th>\n",
       "      <th>name</th>\n",
       "      <th>AGE</th>\n",
       "      <th>city</th>\n",
       "      <th>spent</th>\n",
       "    </tr>\n",
       "  </thead>\n",
       "  <tbody>\n",
       "    <tr>\n",
       "      <th>0</th>\n",
       "      <td>1</td>\n",
       "      <td>OM NAMA SHIVA</td>\n",
       "      <td>8</td>\n",
       "      <td>New York</td>\n",
       "      <td>888.0</td>\n",
       "    </tr>\n",
       "    <tr>\n",
       "      <th>1</th>\n",
       "      <td>2</td>\n",
       "      <td>Shiva Pandey</td>\n",
       "      <td>80</td>\n",
       "      <td>Mass</td>\n",
       "      <td>80808.0</td>\n",
       "    </tr>\n",
       "    <tr>\n",
       "      <th>2</th>\n",
       "      <td>3</td>\n",
       "      <td>Prason Pandey</td>\n",
       "      <td>69</td>\n",
       "      <td>Pokhara</td>\n",
       "      <td>696969.0</td>\n",
       "    </tr>\n",
       "    <tr>\n",
       "      <th>3</th>\n",
       "      <td>4</td>\n",
       "      <td>Ram Kazi</td>\n",
       "      <td>44</td>\n",
       "      <td>Butwal</td>\n",
       "      <td>15792.0</td>\n",
       "    </tr>\n",
       "    <tr>\n",
       "      <th>4</th>\n",
       "      <td>5</td>\n",
       "      <td>Ramesh Pokhrel</td>\n",
       "      <td>96</td>\n",
       "      <td>Arizona</td>\n",
       "      <td>26479.0</td>\n",
       "    </tr>\n",
       "    <tr>\n",
       "      <th>5</th>\n",
       "      <td>6</td>\n",
       "      <td>OM NAMA SHIVA</td>\n",
       "      <td>8</td>\n",
       "      <td>New York</td>\n",
       "      <td>888.0</td>\n",
       "    </tr>\n",
       "    <tr>\n",
       "      <th>6</th>\n",
       "      <td>7</td>\n",
       "      <td>Shiva Pandey</td>\n",
       "      <td>80</td>\n",
       "      <td>Mass</td>\n",
       "      <td>80808.0</td>\n",
       "    </tr>\n",
       "    <tr>\n",
       "      <th>7</th>\n",
       "      <td>8</td>\n",
       "      <td>Ramesh Pokhrel</td>\n",
       "      <td>96</td>\n",
       "      <td>Arizona</td>\n",
       "      <td>26479.0</td>\n",
       "    </tr>\n",
       "  </tbody>\n",
       "</table>\n",
       "</div>"
      ],
      "text/plain": [
       "   id            name  AGE      city     spent\n",
       "0   1   OM NAMA SHIVA    8  New York     888.0\n",
       "1   2    Shiva Pandey   80      Mass   80808.0\n",
       "2   3   Prason Pandey   69   Pokhara  696969.0\n",
       "3   4        Ram Kazi   44    Butwal   15792.0\n",
       "4   5  Ramesh Pokhrel   96   Arizona   26479.0\n",
       "5   6   OM NAMA SHIVA    8  New York     888.0\n",
       "6   7    Shiva Pandey   80      Mass   80808.0\n",
       "7   8  Ramesh Pokhrel   96   Arizona   26479.0"
      ]
     },
     "execution_count": 73,
     "metadata": {},
     "output_type": "execute_result"
    }
   ],
   "source": [
    "query  = \"SELECT * FROM users WHERE spent > 500\"\n",
    "pd.read_sql(query , conn)"
   ]
  },
  {
   "cell_type": "code",
   "execution_count": 85,
   "id": "30ce7b6c-29aa-47ba-83c4-0aa7dbe89759",
   "metadata": {},
   "outputs": [
    {
     "data": {
      "text/html": [
       "<div>\n",
       "<style scoped>\n",
       "    .dataframe tbody tr th:only-of-type {\n",
       "        vertical-align: middle;\n",
       "    }\n",
       "\n",
       "    .dataframe tbody tr th {\n",
       "        vertical-align: top;\n",
       "    }\n",
       "\n",
       "    .dataframe thead th {\n",
       "        text-align: right;\n",
       "    }\n",
       "</style>\n",
       "<table border=\"1\" class=\"dataframe\">\n",
       "  <thead>\n",
       "    <tr style=\"text-align: right;\">\n",
       "      <th></th>\n",
       "      <th>average_age</th>\n",
       "    </tr>\n",
       "  </thead>\n",
       "  <tbody>\n",
       "    <tr>\n",
       "      <th>0</th>\n",
       "      <td>60.125</td>\n",
       "    </tr>\n",
       "  </tbody>\n",
       "</table>\n",
       "</div>"
      ],
      "text/plain": [
       "   average_age\n",
       "0       60.125"
      ]
     },
     "execution_count": 85,
     "metadata": {},
     "output_type": "execute_result"
    }
   ],
   "source": [
    "#Finding the average customer age \n",
    "\n",
    "query = \" SELECT AVG (age) AS average_age FROM users\"\n",
    "pd.read_sql(query , conn)"
   ]
  },
  {
   "cell_type": "code",
   "execution_count": 87,
   "id": "cd0b5185-0d6c-4795-b4f2-07bfa9e69519",
   "metadata": {},
   "outputs": [
    {
     "data": {
      "text/html": [
       "<div>\n",
       "<style scoped>\n",
       "    .dataframe tbody tr th:only-of-type {\n",
       "        vertical-align: middle;\n",
       "    }\n",
       "\n",
       "    .dataframe tbody tr th {\n",
       "        vertical-align: top;\n",
       "    }\n",
       "\n",
       "    .dataframe thead th {\n",
       "        text-align: right;\n",
       "    }\n",
       "</style>\n",
       "<table border=\"1\" class=\"dataframe\">\n",
       "  <thead>\n",
       "    <tr style=\"text-align: right;\">\n",
       "      <th></th>\n",
       "      <th>city</th>\n",
       "      <th>num_customers</th>\n",
       "    </tr>\n",
       "  </thead>\n",
       "  <tbody>\n",
       "    <tr>\n",
       "      <th>0</th>\n",
       "      <td>Arizona</td>\n",
       "      <td>2</td>\n",
       "    </tr>\n",
       "    <tr>\n",
       "      <th>1</th>\n",
       "      <td>Butwal</td>\n",
       "      <td>1</td>\n",
       "    </tr>\n",
       "    <tr>\n",
       "      <th>2</th>\n",
       "      <td>Mass</td>\n",
       "      <td>2</td>\n",
       "    </tr>\n",
       "    <tr>\n",
       "      <th>3</th>\n",
       "      <td>New York</td>\n",
       "      <td>2</td>\n",
       "    </tr>\n",
       "    <tr>\n",
       "      <th>4</th>\n",
       "      <td>Pokhara</td>\n",
       "      <td>1</td>\n",
       "    </tr>\n",
       "  </tbody>\n",
       "</table>\n",
       "</div>"
      ],
      "text/plain": [
       "       city  num_customers\n",
       "0   Arizona              2\n",
       "1    Butwal              1\n",
       "2      Mass              2\n",
       "3  New York              2\n",
       "4   Pokhara              1"
      ]
     },
     "execution_count": 87,
     "metadata": {},
     "output_type": "execute_result"
    }
   ],
   "source": [
    "#Couting the customers in city\n",
    "query = \"SELECT city , COUNT(*) AS num_customers FROM users GROUP BY city\"\n",
    "pd.read_sql(query , conn)"
   ]
  },
  {
   "cell_type": "markdown",
   "id": "9740ca71-3210-4252-82a4-ac34adc2a4b7",
   "metadata": {},
   "source": [
    "# 6. Visualizing the QUERY results using Python "
   ]
  },
  {
   "cell_type": "code",
   "execution_count": 106,
   "id": "e4352b35-899a-4541-bb8e-2077badde0d5",
   "metadata": {},
   "outputs": [
    {
     "data": {
      "image/png": "[encoded data removed]",
      "text/plain": [
       "<Figure size 800x500 with 1 Axes>"
      ]
     },
     "metadata": {},
     "output_type": "display_data"
    }
   ],
   "source": [
    "# Running the SQL query and storing the results in a DataFrame\n",
    "query = \"SELECT city, SUM(spent) AS total_sales FROM users GROUP BY city\"\n",
    "df_sales = pd.read_sql(query, conn)\n",
    "\n",
    "# Plotting the Data\n",
    "plt.figure(figsize=(8, 5))\n",
    "sns.barplot(x=\"city\", y=\"total_sales\", data=df_sales, palette=\"coolwarm\")\n",
    "plt.xticks(rotation=45)\n",
    "plt.title(\"Total Sales for Each City\")\n",
    "plt.show()"
   ]
  },
  {
   "cell_type": "markdown",
   "id": "c496505f-94f5-4408-9514-f6b8cd59eb20",
   "metadata": {},
   "source": [
    "# 7. Closing the SQL connection"
   ]
  },
  {
   "cell_type": "code",
   "execution_count": 111,
   "id": "4d80bfae-8a19-49da-adfe-269276c4d138",
   "metadata": {},
   "outputs": [],
   "source": [
    "conn.close()"
   ]
  }
 ],
 "metadata": {
  "kernelspec": {
   "display_name": "Python 3 (ipykernel)",
   "language": "python",
   "name": "python3"
  },
  "language_info": {
   "codemirror_mode": {
    "name": "ipython",
    "version": 3
   },
   "file_extension": ".py",
   "mimetype": "text/x-python",
   "name": "python",
   "nbconvert_exporter": "python",
   "pygments_lexer": "ipython3",
   "version": "3.12.4"
  }
 },
 "nbformat": 4,
 "nbformat_minor": 5
}
